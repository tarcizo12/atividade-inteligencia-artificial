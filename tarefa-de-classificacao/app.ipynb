{
 "cells": [
  {
   "cell_type": "code",
   "execution_count": null,
   "metadata": {},
   "outputs": [],
   "source": [
    "import pandas as pd\n",
    "import matplotlib.pyplot as plt\n",
    "import plotly.express as px\n",
    "import plotly.graph_objs as go\n",
    "import numpy as np\n",
    "from sklearn.model_selection import train_test_split"
   ]
  },
  {
   "cell_type": "code",
   "execution_count": 8,
   "metadata": {},
   "outputs": [],
   "source": [
    "caracteristicas = pd.read_csv('./base-de-dados/EMG.csv', header=None, names=['sensor 1','sensor 2'])\n",
    "labels = pd.read_csv('./base-de-dados/labels.csv', header=None, names=['neutro','sorrindo','aberto','surpreso', 'rabugento'])\n",
    "\n",
    "dados = pd.concat([caracteristicas, labels], axis=1)\n",
    "\n",
    "dados['label'] = dados.loc[:,['neutro','sorrindo','aberto','surpreso', 'rabugento']].idxmax(axis=1)"
   ]
  },
  {
   "cell_type": "code",
   "execution_count": 1,
   "metadata": {},
   "outputs": [
    {
     "ename": "NameError",
     "evalue": "name 'plt' is not defined",
     "output_type": "error",
     "traceback": [
      "\u001b[0;31m---------------------------------------------------------------------------\u001b[0m",
      "\u001b[0;31mNameError\u001b[0m                                 Traceback (most recent call last)",
      "\u001b[1;32m/home/tarcizo/Área de Trabalho/Tarcizo/Faculdade/Inteligencia_Articifical/PrimeiraAtividadeAV1/atividade-inteligencia-artificial/tarefa-de-classificacao/app.ipynb Célula 3\u001b[0m line \u001b[0;36m1\n\u001b[0;32m----> <a href='vscode-notebook-cell:/home/tarcizo/%C3%81rea%20de%20Trabalho/Tarcizo/Faculdade/Inteligencia_Articifical/PrimeiraAtividadeAV1/atividade-inteligencia-artificial/tarefa-de-classificacao/app.ipynb#W2sZmlsZQ%3D%3D?line=0'>1</a>\u001b[0m plt\u001b[39m.\u001b[39mscatter(dados[\u001b[39m'\u001b[39m\u001b[39msensor 1\u001b[39m\u001b[39m'\u001b[39m], dados[\u001b[39m'\u001b[39m\u001b[39msensor 2\u001b[39m\u001b[39m'\u001b[39m], label\u001b[39m=\u001b[39mdados[\u001b[39m'\u001b[39m\u001b[39mlabel\u001b[39m\u001b[39m'\u001b[39m])\n\u001b[1;32m      <a href='vscode-notebook-cell:/home/tarcizo/%C3%81rea%20de%20Trabalho/Tarcizo/Faculdade/Inteligencia_Articifical/PrimeiraAtividadeAV1/atividade-inteligencia-artificial/tarefa-de-classificacao/app.ipynb#W2sZmlsZQ%3D%3D?line=1'>2</a>\u001b[0m plt\u001b[39m.\u001b[39mxlabel(\u001b[39m'\u001b[39m\u001b[39msensor 1\u001b[39m\u001b[39m'\u001b[39m)\n\u001b[1;32m      <a href='vscode-notebook-cell:/home/tarcizo/%C3%81rea%20de%20Trabalho/Tarcizo/Faculdade/Inteligencia_Articifical/PrimeiraAtividadeAV1/atividade-inteligencia-artificial/tarefa-de-classificacao/app.ipynb#W2sZmlsZQ%3D%3D?line=2'>3</a>\u001b[0m plt\u001b[39m.\u001b[39mylabel(\u001b[39m'\u001b[39m\u001b[39msensor 2\u001b[39m\u001b[39m'\u001b[39m)\n",
      "\u001b[0;31mNameError\u001b[0m: name 'plt' is not defined"
     ]
    }
   ],
   "source": [
    "plt.scatter(dados['sensor 1'], dados['sensor 2'], label=dados['label'])\n",
    "plt.xlabel('sensor 1')\n",
    "plt.ylabel('sensor 2')\n",
    "plt.title('Gráfico de espalhamento')\n",
    "plt.show()"
   ]
  },
  {
   "cell_type": "code",
   "execution_count": null,
   "metadata": {},
   "outputs": [],
   "source": []
  },
  {
   "cell_type": "code",
   "execution_count": null,
   "metadata": {},
   "outputs": [],
   "source": []
  },
  {
   "cell_type": "code",
   "execution_count": null,
   "metadata": {},
   "outputs": [],
   "source": []
  },
  {
   "cell_type": "code",
   "execution_count": null,
   "metadata": {},
   "outputs": [],
   "source": []
  }
 ],
 "metadata": {
  "kernelspec": {
   "display_name": "Python 3",
   "language": "python",
   "name": "python3"
  },
  "language_info": {
   "codemirror_mode": {
    "name": "ipython",
    "version": 3
   },
   "file_extension": ".py",
   "mimetype": "text/x-python",
   "name": "python",
   "nbconvert_exporter": "python",
   "pygments_lexer": "ipython3",
   "version": "3.10.12"
  },
  "orig_nbformat": 4
 },
 "nbformat": 4,
 "nbformat_minor": 2
}
